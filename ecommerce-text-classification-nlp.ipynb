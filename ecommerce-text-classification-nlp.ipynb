{
 "cells": [
  {
   "cell_type": "markdown",
   "metadata": {},
   "source": [
    "# Ecommerce Text Classification - NLP"
   ]
  },
  {
   "cell_type": "code",
   "execution_count": 1,
   "metadata": {
    "_cell_guid": "b1076dfc-b9ad-4769-8c92-a6c4dae69d19",
    "_uuid": "8f2839f25d086af736a60e9eeb907d3b93b6e0e5",
    "execution": {
     "iopub.execute_input": "2022-12-04T09:19:50.218590Z",
     "iopub.status.busy": "2022-12-04T09:19:50.217715Z",
     "iopub.status.idle": "2022-12-04T09:19:50.357376Z",
     "shell.execute_reply": "2022-12-04T09:19:50.356655Z",
     "shell.execute_reply.started": "2022-12-04T09:19:50.218555Z"
    }
   },
   "outputs": [],
   "source": [
    "import numpy as np # linear algebra\n",
    "import pandas as pd # data processing, CSV file I/O (e.g. pd.read_csv)\n",
    "\n",
    "import matplotlib.pyplot as plt\n",
    "import seaborn as sns\n",
    "%matplotlib inline\n",
    "\n",
    "import warnings\n",
    "warnings.filterwarnings('ignore')"
   ]
  },
  {
   "cell_type": "code",
   "execution_count": 2,
   "metadata": {
    "execution": {
     "iopub.execute_input": "2022-12-04T09:19:51.677132Z",
     "iopub.status.busy": "2022-12-04T09:19:51.676674Z",
     "iopub.status.idle": "2022-12-04T09:19:52.371851Z",
     "shell.execute_reply": "2022-12-04T09:19:52.371051Z",
     "shell.execute_reply.started": "2022-12-04T09:19:51.677105Z"
    }
   },
   "outputs": [
    {
     "data": {
      "text/html": [
       "<div>\n",
       "<style scoped>\n",
       "    .dataframe tbody tr th:only-of-type {\n",
       "        vertical-align: middle;\n",
       "    }\n",
       "\n",
       "    .dataframe tbody tr th {\n",
       "        vertical-align: top;\n",
       "    }\n",
       "\n",
       "    .dataframe thead th {\n",
       "        text-align: right;\n",
       "    }\n",
       "</style>\n",
       "<table border=\"1\" class=\"dataframe\">\n",
       "  <thead>\n",
       "    <tr style=\"text-align: right;\">\n",
       "      <th></th>\n",
       "      <th>Class</th>\n",
       "      <th>Description</th>\n",
       "    </tr>\n",
       "  </thead>\n",
       "  <tbody>\n",
       "    <tr>\n",
       "      <th>0</th>\n",
       "      <td>Household</td>\n",
       "      <td>Paper Plane Design Framed Wall Hanging Motivat...</td>\n",
       "    </tr>\n",
       "    <tr>\n",
       "      <th>1</th>\n",
       "      <td>Household</td>\n",
       "      <td>SAF 'Floral' Framed Painting (Wood, 30 inch x ...</td>\n",
       "    </tr>\n",
       "    <tr>\n",
       "      <th>2</th>\n",
       "      <td>Household</td>\n",
       "      <td>SAF 'UV Textured Modern Art Print Framed' Pain...</td>\n",
       "    </tr>\n",
       "    <tr>\n",
       "      <th>3</th>\n",
       "      <td>Household</td>\n",
       "      <td>SAF Flower Print Framed Painting (Synthetic, 1...</td>\n",
       "    </tr>\n",
       "    <tr>\n",
       "      <th>4</th>\n",
       "      <td>Household</td>\n",
       "      <td>Incredible Gifts India Wooden Happy Birthday U...</td>\n",
       "    </tr>\n",
       "  </tbody>\n",
       "</table>\n",
       "</div>"
      ],
      "text/plain": [
       "       Class                                        Description\n",
       "0  Household  Paper Plane Design Framed Wall Hanging Motivat...\n",
       "1  Household  SAF 'Floral' Framed Painting (Wood, 30 inch x ...\n",
       "2  Household  SAF 'UV Textured Modern Art Print Framed' Pain...\n",
       "3  Household  SAF Flower Print Framed Painting (Synthetic, 1...\n",
       "4  Household  Incredible Gifts India Wooden Happy Birthday U..."
      ]
     },
     "execution_count": 2,
     "metadata": {},
     "output_type": "execute_result"
    }
   ],
   "source": [
    "data = pd.read_csv(\"ecommerceDataset.csv\",names = [\"Class\",\"Description\"])\n",
    "data.head()"
   ]
  },
  {
   "cell_type": "code",
   "execution_count": 3,
   "metadata": {
    "execution": {
     "iopub.execute_input": "2022-12-04T09:19:53.942035Z",
     "iopub.status.busy": "2022-12-04T09:19:53.941498Z",
     "iopub.status.idle": "2022-12-04T09:19:53.947558Z",
     "shell.execute_reply": "2022-12-04T09:19:53.946702Z",
     "shell.execute_reply.started": "2022-12-04T09:19:53.942003Z"
    }
   },
   "outputs": [
    {
     "data": {
      "text/plain": [
       "(50425, 2)"
      ]
     },
     "execution_count": 3,
     "metadata": {},
     "output_type": "execute_result"
    }
   ],
   "source": [
    "data.shape"
   ]
  },
  {
   "cell_type": "code",
   "execution_count": 4,
   "metadata": {
    "execution": {
     "iopub.execute_input": "2022-12-04T09:19:55.157150Z",
     "iopub.status.busy": "2022-12-04T09:19:55.156793Z",
     "iopub.status.idle": "2022-12-04T09:19:55.182283Z",
     "shell.execute_reply": "2022-12-04T09:19:55.181237Z",
     "shell.execute_reply.started": "2022-12-04T09:19:55.157122Z"
    }
   },
   "outputs": [
    {
     "name": "stdout",
     "output_type": "stream",
     "text": [
      "<class 'pandas.core.frame.DataFrame'>\n",
      "RangeIndex: 50425 entries, 0 to 50424\n",
      "Data columns (total 2 columns):\n",
      " #   Column       Non-Null Count  Dtype \n",
      "---  ------       --------------  ----- \n",
      " 0   Class        50425 non-null  object\n",
      " 1   Description  50424 non-null  object\n",
      "dtypes: object(2)\n",
      "memory usage: 788.0+ KB\n"
     ]
    }
   ],
   "source": [
    "data.info()"
   ]
  },
  {
   "cell_type": "code",
   "execution_count": 5,
   "metadata": {
    "execution": {
     "iopub.execute_input": "2022-12-04T09:19:56.556595Z",
     "iopub.status.busy": "2022-12-04T09:19:56.556284Z",
     "iopub.status.idle": "2022-12-04T09:19:56.568890Z",
     "shell.execute_reply": "2022-12-04T09:19:56.568313Z",
     "shell.execute_reply.started": "2022-12-04T09:19:56.556570Z"
    }
   },
   "outputs": [
    {
     "data": {
      "text/plain": [
       "Class          0\n",
       "Description    1\n",
       "dtype: int64"
      ]
     },
     "execution_count": 5,
     "metadata": {},
     "output_type": "execute_result"
    }
   ],
   "source": [
    "data.isna().sum()"
   ]
  },
  {
   "cell_type": "code",
   "execution_count": 6,
   "metadata": {
    "execution": {
     "iopub.execute_input": "2022-12-04T09:19:57.757041Z",
     "iopub.status.busy": "2022-12-04T09:19:57.756337Z",
     "iopub.status.idle": "2022-12-04T09:19:57.770786Z",
     "shell.execute_reply": "2022-12-04T09:19:57.770065Z",
     "shell.execute_reply.started": "2022-12-04T09:19:57.757016Z"
    }
   },
   "outputs": [],
   "source": [
    "data.dropna(inplace=True)"
   ]
  },
  {
   "cell_type": "code",
   "execution_count": 7,
   "metadata": {
    "execution": {
     "iopub.execute_input": "2022-12-04T09:19:58.897332Z",
     "iopub.status.busy": "2022-12-04T09:19:58.897013Z",
     "iopub.status.idle": "2022-12-04T09:19:58.902907Z",
     "shell.execute_reply": "2022-12-04T09:19:58.902070Z",
     "shell.execute_reply.started": "2022-12-04T09:19:58.897306Z"
    }
   },
   "outputs": [
    {
     "data": {
      "text/plain": [
       "(50424, 2)"
      ]
     },
     "execution_count": 7,
     "metadata": {},
     "output_type": "execute_result"
    }
   ],
   "source": [
    "data.shape"
   ]
  },
  {
   "cell_type": "code",
   "execution_count": 8,
   "metadata": {
    "execution": {
     "iopub.execute_input": "2022-12-04T09:20:00.196875Z",
     "iopub.status.busy": "2022-12-04T09:20:00.196528Z",
     "iopub.status.idle": "2022-12-04T09:20:00.239453Z",
     "shell.execute_reply": "2022-12-04T09:20:00.238635Z",
     "shell.execute_reply.started": "2022-12-04T09:20:00.196832Z"
    }
   },
   "outputs": [
    {
     "data": {
      "text/html": [
       "<div>\n",
       "<style scoped>\n",
       "    .dataframe tbody tr th:only-of-type {\n",
       "        vertical-align: middle;\n",
       "    }\n",
       "\n",
       "    .dataframe tbody tr th {\n",
       "        vertical-align: top;\n",
       "    }\n",
       "\n",
       "    .dataframe thead th {\n",
       "        text-align: right;\n",
       "    }\n",
       "</style>\n",
       "<table border=\"1\" class=\"dataframe\">\n",
       "  <thead>\n",
       "    <tr style=\"text-align: right;\">\n",
       "      <th></th>\n",
       "      <th>Class</th>\n",
       "      <th>Description</th>\n",
       "    </tr>\n",
       "  </thead>\n",
       "  <tbody>\n",
       "    <tr>\n",
       "      <th>count</th>\n",
       "      <td>50424</td>\n",
       "      <td>50424</td>\n",
       "    </tr>\n",
       "    <tr>\n",
       "      <th>unique</th>\n",
       "      <td>4</td>\n",
       "      <td>27802</td>\n",
       "    </tr>\n",
       "    <tr>\n",
       "      <th>top</th>\n",
       "      <td>Household</td>\n",
       "      <td>Think &amp; Grow Rich About the Author NAPOLEON HI...</td>\n",
       "    </tr>\n",
       "    <tr>\n",
       "      <th>freq</th>\n",
       "      <td>19313</td>\n",
       "      <td>30</td>\n",
       "    </tr>\n",
       "  </tbody>\n",
       "</table>\n",
       "</div>"
      ],
      "text/plain": [
       "            Class                                        Description\n",
       "count       50424                                              50424\n",
       "unique          4                                              27802\n",
       "top     Household  Think & Grow Rich About the Author NAPOLEON HI...\n",
       "freq        19313                                                 30"
      ]
     },
     "execution_count": 8,
     "metadata": {},
     "output_type": "execute_result"
    }
   ],
   "source": [
    "data.describe()"
   ]
  },
  {
   "cell_type": "code",
   "execution_count": 9,
   "metadata": {
    "execution": {
     "iopub.execute_input": "2022-12-04T09:20:01.377216Z",
     "iopub.status.busy": "2022-12-04T09:20:01.376889Z",
     "iopub.status.idle": "2022-12-04T09:20:01.386830Z",
     "shell.execute_reply": "2022-12-04T09:20:01.385903Z",
     "shell.execute_reply.started": "2022-12-04T09:20:01.377190Z"
    }
   },
   "outputs": [
    {
     "data": {
      "text/html": [
       "<div>\n",
       "<style scoped>\n",
       "    .dataframe tbody tr th:only-of-type {\n",
       "        vertical-align: middle;\n",
       "    }\n",
       "\n",
       "    .dataframe tbody tr th {\n",
       "        vertical-align: top;\n",
       "    }\n",
       "\n",
       "    .dataframe thead th {\n",
       "        text-align: right;\n",
       "    }\n",
       "</style>\n",
       "<table border=\"1\" class=\"dataframe\">\n",
       "  <thead>\n",
       "    <tr style=\"text-align: right;\">\n",
       "      <th></th>\n",
       "      <th>Class</th>\n",
       "      <th>Description</th>\n",
       "    </tr>\n",
       "  </thead>\n",
       "  <tbody>\n",
       "    <tr>\n",
       "      <th>0</th>\n",
       "      <td>Household</td>\n",
       "      <td>Paper Plane Design Framed Wall Hanging Motivat...</td>\n",
       "    </tr>\n",
       "    <tr>\n",
       "      <th>1</th>\n",
       "      <td>Household</td>\n",
       "      <td>SAF 'Floral' Framed Painting (Wood, 30 inch x ...</td>\n",
       "    </tr>\n",
       "    <tr>\n",
       "      <th>2</th>\n",
       "      <td>Household</td>\n",
       "      <td>SAF 'UV Textured Modern Art Print Framed' Pain...</td>\n",
       "    </tr>\n",
       "    <tr>\n",
       "      <th>3</th>\n",
       "      <td>Household</td>\n",
       "      <td>SAF Flower Print Framed Painting (Synthetic, 1...</td>\n",
       "    </tr>\n",
       "    <tr>\n",
       "      <th>4</th>\n",
       "      <td>Household</td>\n",
       "      <td>Incredible Gifts India Wooden Happy Birthday U...</td>\n",
       "    </tr>\n",
       "  </tbody>\n",
       "</table>\n",
       "</div>"
      ],
      "text/plain": [
       "       Class                                        Description\n",
       "0  Household  Paper Plane Design Framed Wall Hanging Motivat...\n",
       "1  Household  SAF 'Floral' Framed Painting (Wood, 30 inch x ...\n",
       "2  Household  SAF 'UV Textured Modern Art Print Framed' Pain...\n",
       "3  Household  SAF Flower Print Framed Painting (Synthetic, 1...\n",
       "4  Household  Incredible Gifts India Wooden Happy Birthday U..."
      ]
     },
     "execution_count": 9,
     "metadata": {},
     "output_type": "execute_result"
    }
   ],
   "source": [
    "data.head()"
   ]
  },
  {
   "cell_type": "code",
   "execution_count": 10,
   "metadata": {
    "execution": {
     "iopub.execute_input": "2022-12-04T09:20:02.517232Z",
     "iopub.status.busy": "2022-12-04T09:20:02.516905Z",
     "iopub.status.idle": "2022-12-04T09:20:02.525265Z",
     "shell.execute_reply": "2022-12-04T09:20:02.524635Z",
     "shell.execute_reply.started": "2022-12-04T09:20:02.517206Z"
    }
   },
   "outputs": [
    {
     "data": {
      "text/plain": [
       "Household                 19313\n",
       "Books                     11820\n",
       "Electronics               10621\n",
       "Clothing & Accessories     8670\n",
       "Name: Class, dtype: int64"
      ]
     },
     "execution_count": 10,
     "metadata": {},
     "output_type": "execute_result"
    }
   ],
   "source": [
    "data['Class'].value_counts()"
   ]
  },
  {
   "cell_type": "code",
   "execution_count": 11,
   "metadata": {
    "execution": {
     "iopub.execute_input": "2022-12-04T09:20:03.602300Z",
     "iopub.status.busy": "2022-12-04T09:20:03.601699Z",
     "iopub.status.idle": "2022-12-04T09:20:03.788432Z",
     "shell.execute_reply": "2022-12-04T09:20:03.787715Z",
     "shell.execute_reply.started": "2022-12-04T09:20:03.602259Z"
    }
   },
   "outputs": [
    {
     "data": {
      "text/plain": [
       "<AxesSubplot:xlabel='Class', ylabel='count'>"
      ]
     },
     "execution_count": 11,
     "metadata": {},
     "output_type": "execute_result"
    },
    {
     "data": {
      "image/png": "[encoded data removed]",
      "text/plain": [
       "<Figure size 640x480 with 1 Axes>"
      ]
     },
     "metadata": {},
     "output_type": "display_data"
    }
   ],
   "source": [
    "sns.countplot(data['Class'])"
   ]
  },
  {
   "cell_type": "markdown",
   "metadata": {},
   "source": [
    "- since the number of data are different in different categories which result in Class Imbalance Problem."
   ]
  },
  {
   "cell_type": "markdown",
   "metadata": {},
   "source": [
    "- So, in order to deal with the class imbalance problem we may use different techniques like ReSample the training dataset(Over-Sampling & Under-Sampling) and Combination of Over and Under Sampling.\n"
   ]
  },
  {
   "cell_type": "markdown",
   "metadata": {},
   "source": [
    "- Since here we are dealing with NLP problem where the data are sequential like text so we can use the **Google Translation(google trans python package):**\n",
    "\n",
    "This is one of the useful techniques to expand the count of minority groups. Here, we translate the given sentence to ‘non-English’ language and then again translating to ‘English’. In this way, the significant details of the input message are maintained but the order of words / sometimes new words with similar meaning are introduced as a new record and thus boosting the count of insufficient class.\n",
    "\n"
   ]
  },
  {
   "cell_type": "markdown",
   "metadata": {},
   "source": [
    "## Text Preprocessing "
   ]
  },
  {
   "cell_type": "code",
   "execution_count": 13,
   "metadata": {
    "execution": {
     "iopub.execute_input": "2022-12-04T09:20:10.137110Z",
     "iopub.status.busy": "2022-12-04T09:20:10.136783Z",
     "iopub.status.idle": "2022-12-04T09:20:10.588910Z",
     "shell.execute_reply": "2022-12-04T09:20:10.588124Z",
     "shell.execute_reply.started": "2022-12-04T09:20:10.137085Z"
    }
   },
   "outputs": [],
   "source": [
    "import nltk"
   ]
  },
  {
   "cell_type": "markdown",
   "metadata": {},
   "source": [
    "- **Lower Casing**"
   ]
  },
  {
   "cell_type": "code",
   "execution_count": 14,
   "metadata": {
    "execution": {
     "iopub.execute_input": "2022-12-04T09:20:12.417293Z",
     "iopub.status.busy": "2022-12-04T09:20:12.416988Z",
     "iopub.status.idle": "2022-12-04T09:20:12.504326Z",
     "shell.execute_reply": "2022-12-04T09:20:12.503675Z",
     "shell.execute_reply.started": "2022-12-04T09:20:12.417270Z"
    }
   },
   "outputs": [
    {
     "data": {
      "text/html": [
       "<div>\n",
       "<style scoped>\n",
       "    .dataframe tbody tr th:only-of-type {\n",
       "        vertical-align: middle;\n",
       "    }\n",
       "\n",
       "    .dataframe tbody tr th {\n",
       "        vertical-align: top;\n",
       "    }\n",
       "\n",
       "    .dataframe thead th {\n",
       "        text-align: right;\n",
       "    }\n",
       "</style>\n",
       "<table border=\"1\" class=\"dataframe\">\n",
       "  <thead>\n",
       "    <tr style=\"text-align: right;\">\n",
       "      <th></th>\n",
       "      <th>Class</th>\n",
       "      <th>Description</th>\n",
       "    </tr>\n",
       "  </thead>\n",
       "  <tbody>\n",
       "    <tr>\n",
       "      <th>0</th>\n",
       "      <td>Household</td>\n",
       "      <td>paper plane design framed wall hanging motivat...</td>\n",
       "    </tr>\n",
       "    <tr>\n",
       "      <th>1</th>\n",
       "      <td>Household</td>\n",
       "      <td>saf 'floral' framed painting (wood, 30 inch x ...</td>\n",
       "    </tr>\n",
       "    <tr>\n",
       "      <th>2</th>\n",
       "      <td>Household</td>\n",
       "      <td>saf 'uv textured modern art print framed' pain...</td>\n",
       "    </tr>\n",
       "    <tr>\n",
       "      <th>3</th>\n",
       "      <td>Household</td>\n",
       "      <td>saf flower print framed painting (synthetic, 1...</td>\n",
       "    </tr>\n",
       "    <tr>\n",
       "      <th>4</th>\n",
       "      <td>Household</td>\n",
       "      <td>incredible gifts india wooden happy birthday u...</td>\n",
       "    </tr>\n",
       "  </tbody>\n",
       "</table>\n",
       "</div>"
      ],
      "text/plain": [
       "       Class                                        Description\n",
       "0  Household  paper plane design framed wall hanging motivat...\n",
       "1  Household  saf 'floral' framed painting (wood, 30 inch x ...\n",
       "2  Household  saf 'uv textured modern art print framed' pain...\n",
       "3  Household  saf flower print framed painting (synthetic, 1...\n",
       "4  Household  incredible gifts india wooden happy birthday u..."
      ]
     },
     "execution_count": 14,
     "metadata": {},
     "output_type": "execute_result"
    }
   ],
   "source": [
    "data[\"Description\"] = data[\"Description\"].str.lower()\n",
    "data.head()"
   ]
  },
  {
   "cell_type": "code",
   "execution_count": 15,
   "metadata": {
    "execution": {
     "iopub.execute_input": "2022-12-04T09:20:13.357214Z",
     "iopub.status.busy": "2022-12-04T09:20:13.356568Z",
     "iopub.status.idle": "2022-12-04T09:20:13.362097Z",
     "shell.execute_reply": "2022-12-04T09:20:13.361477Z",
     "shell.execute_reply.started": "2022-12-04T09:20:13.357189Z"
    }
   },
   "outputs": [
    {
     "data": {
      "text/plain": [
       "\"saf 'floral' framed painting (wood, 30 inch x 10 inch, special effect uv print textured, sao297) painting made up in synthetic frame with uv textured print which gives multi effects and attracts towards it. this is an special series of paintings which makes your wall very beautiful and gives a royal touch (a perfect gift for your special ones).\""
      ]
     },
     "execution_count": 15,
     "metadata": {},
     "output_type": "execute_result"
    }
   ],
   "source": [
    "data['Description'][1]"
   ]
  },
  {
   "cell_type": "markdown",
   "metadata": {},
   "source": [
    "- **Removal of Punctuations**"
   ]
  },
  {
   "cell_type": "code",
   "execution_count": 16,
   "metadata": {
    "execution": {
     "iopub.execute_input": "2022-12-04T09:20:15.277415Z",
     "iopub.status.busy": "2022-12-04T09:20:15.276700Z",
     "iopub.status.idle": "2022-12-04T09:20:16.596104Z",
     "shell.execute_reply": "2022-12-04T09:20:16.595263Z",
     "shell.execute_reply.started": "2022-12-04T09:20:15.277388Z"
    }
   },
   "outputs": [
    {
     "data": {
      "text/html": [
       "<div>\n",
       "<style scoped>\n",
       "    .dataframe tbody tr th:only-of-type {\n",
       "        vertical-align: middle;\n",
       "    }\n",
       "\n",
       "    .dataframe tbody tr th {\n",
       "        vertical-align: top;\n",
       "    }\n",
       "\n",
       "    .dataframe thead th {\n",
       "        text-align: right;\n",
       "    }\n",
       "</style>\n",
       "<table border=\"1\" class=\"dataframe\">\n",
       "  <thead>\n",
       "    <tr style=\"text-align: right;\">\n",
       "      <th></th>\n",
       "      <th>Class</th>\n",
       "      <th>Description</th>\n",
       "    </tr>\n",
       "  </thead>\n",
       "  <tbody>\n",
       "    <tr>\n",
       "      <th>0</th>\n",
       "      <td>Household</td>\n",
       "      <td>paper plane design framed wall hanging motivat...</td>\n",
       "    </tr>\n",
       "    <tr>\n",
       "      <th>1</th>\n",
       "      <td>Household</td>\n",
       "      <td>saf floral framed painting wood 30 inch x 10 i...</td>\n",
       "    </tr>\n",
       "    <tr>\n",
       "      <th>2</th>\n",
       "      <td>Household</td>\n",
       "      <td>saf uv textured modern art print framed painti...</td>\n",
       "    </tr>\n",
       "    <tr>\n",
       "      <th>3</th>\n",
       "      <td>Household</td>\n",
       "      <td>saf flower print framed painting synthetic 135...</td>\n",
       "    </tr>\n",
       "    <tr>\n",
       "      <th>4</th>\n",
       "      <td>Household</td>\n",
       "      <td>incredible gifts india wooden happy birthday u...</td>\n",
       "    </tr>\n",
       "  </tbody>\n",
       "</table>\n",
       "</div>"
      ],
      "text/plain": [
       "       Class                                        Description\n",
       "0  Household  paper plane design framed wall hanging motivat...\n",
       "1  Household  saf floral framed painting wood 30 inch x 10 i...\n",
       "2  Household  saf uv textured modern art print framed painti...\n",
       "3  Household  saf flower print framed painting synthetic 135...\n",
       "4  Household  incredible gifts india wooden happy birthday u..."
      ]
     },
     "execution_count": 16,
     "metadata": {},
     "output_type": "execute_result"
    }
   ],
   "source": [
    "#function to remove the punctuation\n",
    "import string\n",
    "def remove_punctuation(text):\n",
    "    return text.translate(str.maketrans('', '', string.punctuation))\n",
    "\n",
    "data[\"Description\"] = data[\"Description\"].apply(lambda text: remove_punctuation(text))\n",
    "data.head()"
   ]
  },
  {
   "cell_type": "code",
   "execution_count": 17,
   "metadata": {
    "execution": {
     "iopub.execute_input": "2022-12-04T09:20:16.598315Z",
     "iopub.status.busy": "2022-12-04T09:20:16.597541Z",
     "iopub.status.idle": "2022-12-04T09:20:16.604033Z",
     "shell.execute_reply": "2022-12-04T09:20:16.603242Z",
     "shell.execute_reply.started": "2022-12-04T09:20:16.598282Z"
    }
   },
   "outputs": [
    {
     "data": {
      "text/plain": [
       "'saf floral framed painting wood 30 inch x 10 inch special effect uv print textured sao297 painting made up in synthetic frame with uv textured print which gives multi effects and attracts towards it this is an special series of paintings which makes your wall very beautiful and gives a royal touch a perfect gift for your special ones'"
      ]
     },
     "execution_count": 17,
     "metadata": {},
     "output_type": "execute_result"
    }
   ],
   "source": [
    "data['Description'][1]"
   ]
  },
  {
   "cell_type": "markdown",
   "metadata": {},
   "source": [
    "- **Removing stopwords**"
   ]
  },
  {
   "cell_type": "code",
   "execution_count": 18,
   "metadata": {
    "execution": {
     "iopub.execute_input": "2022-12-04T09:20:18.067318Z",
     "iopub.status.busy": "2022-12-04T09:20:18.067012Z",
     "iopub.status.idle": "2022-12-04T09:20:18.072683Z",
     "shell.execute_reply": "2022-12-04T09:20:18.072080Z",
     "shell.execute_reply.started": "2022-12-04T09:20:18.067293Z"
    }
   },
   "outputs": [],
   "source": [
    "import string\n",
    "from nltk.corpus import stopwords\n",
    "\n",
    "def process_text(text):\n",
    "    no_punc = [char for char in text if char not in string.punctuation]\n",
    "    no_punc = ''.join(no_punc)\n",
    "    \n",
    "    \n",
    "    return ' '.join([word for word in no_punc.split() if word.lower() not in stopwords.words('english')])\n"
   ]
  },
  {
   "cell_type": "code",
   "execution_count": 19,
   "metadata": {
    "execution": {
     "iopub.execute_input": "2022-12-04T09:20:18.936922Z",
     "iopub.status.busy": "2022-12-04T09:20:18.936588Z",
     "iopub.status.idle": "2022-12-04T09:30:09.089948Z",
     "shell.execute_reply": "2022-12-04T09:30:09.089115Z",
     "shell.execute_reply.started": "2022-12-04T09:20:18.936898Z"
    }
   },
   "outputs": [],
   "source": [
    "data['Description']=data['Description'].apply(process_text)"
   ]
  },
  {
   "cell_type": "code",
   "execution_count": 20,
   "metadata": {
    "execution": {
     "iopub.execute_input": "2022-12-04T09:33:02.457815Z",
     "iopub.status.busy": "2022-12-04T09:33:02.457505Z",
     "iopub.status.idle": "2022-12-04T09:33:02.463928Z",
     "shell.execute_reply": "2022-12-04T09:33:02.463106Z",
     "shell.execute_reply.started": "2022-12-04T09:33:02.457791Z"
    }
   },
   "outputs": [
    {
     "data": {
      "text/plain": [
       "'saf floral framed painting wood 30 inch x 10 inch special effect uv print textured sao297 painting made synthetic frame uv textured print gives multi effects attracts towards special series paintings makes wall beautiful gives royal touch perfect gift special ones'"
      ]
     },
     "execution_count": 20,
     "metadata": {},
     "output_type": "execute_result"
    }
   ],
   "source": [
    "data['Description'][1]"
   ]
  },
  {
   "cell_type": "markdown",
   "metadata": {},
   "source": [
    "- **Stemming**"
   ]
  },
  {
   "cell_type": "code",
   "execution_count": 21,
   "metadata": {
    "execution": {
     "iopub.execute_input": "2022-12-04T09:33:03.537032Z",
     "iopub.status.busy": "2022-12-04T09:33:03.536668Z",
     "iopub.status.idle": "2022-12-04T09:33:22.736357Z",
     "shell.execute_reply": "2022-12-04T09:33:22.735562Z",
     "shell.execute_reply.started": "2022-12-04T09:33:03.537005Z"
    }
   },
   "outputs": [
    {
     "data": {
      "text/html": [
       "<div>\n",
       "<style scoped>\n",
       "    .dataframe tbody tr th:only-of-type {\n",
       "        vertical-align: middle;\n",
       "    }\n",
       "\n",
       "    .dataframe tbody tr th {\n",
       "        vertical-align: top;\n",
       "    }\n",
       "\n",
       "    .dataframe thead th {\n",
       "        text-align: right;\n",
       "    }\n",
       "</style>\n",
       "<table border=\"1\" class=\"dataframe\">\n",
       "  <thead>\n",
       "    <tr style=\"text-align: right;\">\n",
       "      <th></th>\n",
       "      <th>Class</th>\n",
       "      <th>Description</th>\n",
       "    </tr>\n",
       "  </thead>\n",
       "  <tbody>\n",
       "    <tr>\n",
       "      <th>0</th>\n",
       "      <td>Household</td>\n",
       "      <td>paper plane design framed wall hanging motivat...</td>\n",
       "    </tr>\n",
       "    <tr>\n",
       "      <th>1</th>\n",
       "      <td>Household</td>\n",
       "      <td>saf floral framed painting wood 30 inch x 10 i...</td>\n",
       "    </tr>\n",
       "    <tr>\n",
       "      <th>2</th>\n",
       "      <td>Household</td>\n",
       "      <td>saf uv textured modern art print framed painti...</td>\n",
       "    </tr>\n",
       "    <tr>\n",
       "      <th>3</th>\n",
       "      <td>Household</td>\n",
       "      <td>saf flower print framed painting synthetic 135...</td>\n",
       "    </tr>\n",
       "    <tr>\n",
       "      <th>4</th>\n",
       "      <td>Household</td>\n",
       "      <td>incredible gifts india wooden happy birthday u...</td>\n",
       "    </tr>\n",
       "  </tbody>\n",
       "</table>\n",
       "</div>"
      ],
      "text/plain": [
       "       Class                                        Description\n",
       "0  Household  paper plane design framed wall hanging motivat...\n",
       "1  Household  saf floral framed painting wood 30 inch x 10 i...\n",
       "2  Household  saf uv textured modern art print framed painti...\n",
       "3  Household  saf flower print framed painting synthetic 135...\n",
       "4  Household  incredible gifts india wooden happy birthday u..."
      ]
     },
     "execution_count": 21,
     "metadata": {},
     "output_type": "execute_result"
    }
   ],
   "source": [
    "from nltk.stem import PorterStemmer\n",
    "stemmer = PorterStemmer()\n",
    "\n",
    "def stemming (text):\n",
    "    return ''.join([stemmer.stem(word) for word in text])\n",
    "\n",
    "data['Description']=data['Description'].apply(stemming)\n",
    "data.head()    "
   ]
  },
  {
   "cell_type": "code",
   "execution_count": 22,
   "metadata": {
    "execution": {
     "iopub.execute_input": "2022-12-04T09:33:22.737994Z",
     "iopub.status.busy": "2022-12-04T09:33:22.737740Z",
     "iopub.status.idle": "2022-12-04T09:33:22.744720Z",
     "shell.execute_reply": "2022-12-04T09:33:22.743892Z",
     "shell.execute_reply.started": "2022-12-04T09:33:22.737971Z"
    }
   },
   "outputs": [
    {
     "data": {
      "text/plain": [
       "0        paper plane design framed wall hanging motivat...\n",
       "1        saf floral framed painting wood 30 inch x 10 i...\n",
       "2        saf uv textured modern art print framed painti...\n",
       "3        saf flower print framed painting synthetic 135...\n",
       "4        incredible gifts india wooden happy birthday u...\n",
       "                               ...                        \n",
       "50420    strontium microsd class 10 8gb memory card bla...\n",
       "50421    crossbeats wave waterproof bluetooth wireless ...\n",
       "50422    karbonn titanium wind w4 white karbonn titaniu...\n",
       "50423    samsung guru fm plus smb110ed black colourblac...\n",
       "50424                       micromax canvas win w121 white\n",
       "Name: Description, Length: 50424, dtype: object"
      ]
     },
     "execution_count": 22,
     "metadata": {},
     "output_type": "execute_result"
    }
   ],
   "source": [
    "data['Description']"
   ]
  },
  {
   "cell_type": "code",
   "execution_count": 23,
   "metadata": {
    "execution": {
     "iopub.execute_input": "2022-12-04T09:33:22.747571Z",
     "iopub.status.busy": "2022-12-04T09:33:22.746765Z",
     "iopub.status.idle": "2022-12-04T09:33:22.756605Z",
     "shell.execute_reply": "2022-12-04T09:33:22.755693Z",
     "shell.execute_reply.started": "2022-12-04T09:33:22.747544Z"
    }
   },
   "outputs": [
    {
     "data": {
      "text/plain": [
       "'saf flower print framed painting synthetic 135 inch x 22 inch uv textured set 3 sanfsw4951 colormulticolor size35 cm x 50 cm x 2 cm beautiful painting involves action skill using paint right manner hence end product picture speak thousand words say arts trend quite time give different viewer different meanings style design saf wood matte painting frame quite abstract mysteriously beautiful painting nice frame gift family friend painting various forms certain figures seen image add good set lights place painting decor give different feel look place quality durability painting matte finish includes good quality frame last long period however include glass along frame'"
      ]
     },
     "execution_count": 23,
     "metadata": {},
     "output_type": "execute_result"
    }
   ],
   "source": [
    "data['Description'][3]"
   ]
  },
  {
   "cell_type": "markdown",
   "metadata": {},
   "source": [
    "- **Creating the Bag of Words model**"
   ]
  },
  {
   "cell_type": "code",
   "execution_count": 24,
   "metadata": {
    "execution": {
     "iopub.execute_input": "2022-12-04T09:33:22.759227Z",
     "iopub.status.busy": "2022-12-04T09:33:22.758609Z",
     "iopub.status.idle": "2022-12-04T09:33:41.083212Z",
     "shell.execute_reply": "2022-12-04T09:33:41.082311Z",
     "shell.execute_reply.started": "2022-12-04T09:33:22.759200Z"
    }
   },
   "outputs": [],
   "source": [
    "## Applying Countvectorizer\n",
    "# Creating the Bag of Words model\n",
    "from sklearn.feature_extraction.text import CountVectorizer\n",
    "cv = CountVectorizer(max_features=5000,ngram_range=(1,3))\n",
    "\n",
    "X = cv.fit_transform(data['Description'])\n"
   ]
  },
  {
   "cell_type": "code",
   "execution_count": 25,
   "metadata": {
    "execution": {
     "iopub.execute_input": "2022-12-04T09:33:41.084583Z",
     "iopub.status.busy": "2022-12-04T09:33:41.084313Z",
     "iopub.status.idle": "2022-12-04T09:33:41.089970Z",
     "shell.execute_reply": "2022-12-04T09:33:41.089149Z",
     "shell.execute_reply.started": "2022-12-04T09:33:41.084557Z"
    }
   },
   "outputs": [
    {
     "data": {
      "text/plain": [
       "(50424, 5000)"
      ]
     },
     "execution_count": 25,
     "metadata": {},
     "output_type": "execute_result"
    }
   ],
   "source": [
    "X.shape"
   ]
  },
  {
   "cell_type": "code",
   "execution_count": 26,
   "metadata": {
    "execution": {
     "iopub.execute_input": "2022-12-04T09:33:41.091704Z",
     "iopub.status.busy": "2022-12-04T09:33:41.091016Z",
     "iopub.status.idle": "2022-12-04T09:33:41.098772Z",
     "shell.execute_reply": "2022-12-04T09:33:41.098011Z",
     "shell.execute_reply.started": "2022-12-04T09:33:41.091672Z"
    }
   },
   "outputs": [],
   "source": [
    "y = data['Class']"
   ]
  },
  {
   "cell_type": "markdown",
   "metadata": {},
   "source": [
    "- **Splitting the data into test and training data**"
   ]
  },
  {
   "cell_type": "code",
   "execution_count": 27,
   "metadata": {
    "execution": {
     "iopub.execute_input": "2022-12-04T09:33:41.100167Z",
     "iopub.status.busy": "2022-12-04T09:33:41.099940Z",
     "iopub.status.idle": "2022-12-04T09:33:41.120642Z",
     "shell.execute_reply": "2022-12-04T09:33:41.119849Z",
     "shell.execute_reply.started": "2022-12-04T09:33:41.100144Z"
    }
   },
   "outputs": [],
   "source": [
    "from sklearn.model_selection import train_test_split\n",
    "X_train, X_test, y_train, y_test = train_test_split(X, y, test_size=0.33, random_state=0)"
   ]
  },
  {
   "cell_type": "code",
   "execution_count": 28,
   "metadata": {
    "execution": {
     "iopub.execute_input": "2022-12-04T09:33:41.122142Z",
     "iopub.status.busy": "2022-12-04T09:33:41.121820Z",
     "iopub.status.idle": "2022-12-04T09:33:41.137472Z",
     "shell.execute_reply": "2022-12-04T09:33:41.136560Z",
     "shell.execute_reply.started": "2022-12-04T09:33:41.122110Z"
    }
   },
   "outputs": [
    {
     "data": {
      "text/plain": [
       "['able',\n",
       " 'abs',\n",
       " 'abs plastic',\n",
       " 'absolute',\n",
       " 'absolutely',\n",
       " 'absorb',\n",
       " 'absorbent',\n",
       " 'absorbing',\n",
       " 'absorbs',\n",
       " 'ac',\n",
       " 'academic',\n",
       " 'academy',\n",
       " 'accent',\n",
       " 'access',\n",
       " 'accessible',\n",
       " 'accessories',\n",
       " 'accessory',\n",
       " 'acclaimed',\n",
       " 'accommodate',\n",
       " 'according',\n",
       " 'account',\n",
       " 'accounting',\n",
       " 'accuracy',\n",
       " 'accurate',\n",
       " 'accurate content',\n",
       " 'accurate content books',\n",
       " 'acer',\n",
       " 'achieve',\n",
       " 'achievement',\n",
       " 'across',\n",
       " 'acrylic',\n",
       " 'act',\n",
       " 'action',\n",
       " 'action camera',\n",
       " 'activated',\n",
       " 'active',\n",
       " 'activities',\n",
       " 'activity',\n",
       " 'acts',\n",
       " 'actual',\n",
       " 'actual item',\n",
       " 'actual product',\n",
       " 'actual product may',\n",
       " 'actually',\n",
       " 'adapter',\n",
       " 'adapter cable',\n",
       " 'adaptor',\n",
       " 'add',\n",
       " 'add touch',\n",
       " 'added',\n",
       " 'adding',\n",
       " 'addition',\n",
       " 'additional',\n",
       " 'additional features',\n",
       " 'additionally',\n",
       " 'address',\n",
       " 'adds',\n",
       " 'adhesive',\n",
       " 'adjust',\n",
       " 'adjustable',\n",
       " 'adjusted',\n",
       " 'adjusting',\n",
       " 'adjustment',\n",
       " 'administration',\n",
       " 'adopted',\n",
       " 'adopted whole',\n",
       " 'adopted whole new',\n",
       " 'adorable',\n",
       " 'adult',\n",
       " 'adults',\n",
       " 'advance',\n",
       " 'advanced',\n",
       " 'advantage',\n",
       " 'adventure',\n",
       " 'adventures',\n",
       " 'advice',\n",
       " 'aesthetic',\n",
       " 'aesthetics',\n",
       " 'af',\n",
       " 'affairs',\n",
       " 'affordable',\n",
       " 'age',\n",
       " 'ages',\n",
       " 'agriculture',\n",
       " 'ahead',\n",
       " 'ai',\n",
       " 'aid',\n",
       " 'aiims',\n",
       " 'air',\n",
       " 'air bubbles',\n",
       " 'air conditioner',\n",
       " 'air delivery',\n",
       " 'air flow',\n",
       " 'air purifier',\n",
       " 'airflow',\n",
       " 'airtight',\n",
       " 'alarm',\n",
       " 'alarm clock',\n",
       " 'album',\n",
       " 'alike',\n",
       " 'alive',\n",
       " 'allen',\n",
       " 'allinone',\n",
       " 'allow',\n",
       " 'allowed',\n",
       " 'allowing',\n",
       " 'allows',\n",
       " 'alloy',\n",
       " 'almost',\n",
       " 'alone',\n",
       " 'along',\n",
       " 'already',\n",
       " 'also',\n",
       " 'also comes',\n",
       " 'also features',\n",
       " 'also makes',\n",
       " 'also use',\n",
       " 'also used',\n",
       " 'alternative',\n",
       " 'although',\n",
       " 'aluminium',\n",
       " 'aluminum',\n",
       " 'always',\n",
       " 'amazing',\n",
       " 'amazon',\n",
       " 'amazon brand',\n",
       " 'amazon brand solimo',\n",
       " 'amazon india',\n",
       " 'amazonbasics',\n",
       " 'amazonin',\n",
       " 'america',\n",
       " 'american',\n",
       " 'among',\n",
       " 'amount',\n",
       " 'amp',\n",
       " 'ample',\n",
       " 'amplifier',\n",
       " 'an',\n",
       " 'analog',\n",
       " 'analysis',\n",
       " 'analysis experts',\n",
       " 'analysis experts adopted',\n",
       " 'anatomy',\n",
       " 'ancient',\n",
       " 'and',\n",
       " 'android',\n",
       " 'android ios',\n",
       " 'angeles',\n",
       " 'angle',\n",
       " 'angles']"
      ]
     },
     "execution_count": 28,
     "metadata": {},
     "output_type": "execute_result"
    }
   ],
   "source": [
    "cv.get_feature_names()[150:300]"
   ]
  },
  {
   "cell_type": "code",
   "execution_count": 29,
   "metadata": {
    "execution": {
     "iopub.execute_input": "2022-12-04T09:33:41.138913Z",
     "iopub.status.busy": "2022-12-04T09:33:41.138584Z",
     "iopub.status.idle": "2022-12-04T09:33:41.146481Z",
     "shell.execute_reply": "2022-12-04T09:33:41.145610Z",
     "shell.execute_reply.started": "2022-12-04T09:33:41.138886Z"
    }
   },
   "outputs": [
    {
     "data": {
      "text/plain": [
       "{'analyzer': 'word',\n",
       " 'binary': False,\n",
       " 'decode_error': 'strict',\n",
       " 'dtype': numpy.int64,\n",
       " 'encoding': 'utf-8',\n",
       " 'input': 'content',\n",
       " 'lowercase': True,\n",
       " 'max_df': 1.0,\n",
       " 'max_features': 5000,\n",
       " 'min_df': 1,\n",
       " 'ngram_range': (1, 3),\n",
       " 'preprocessor': None,\n",
       " 'stop_words': None,\n",
       " 'strip_accents': None,\n",
       " 'token_pattern': '(?u)\\\\b\\\\w\\\\w+\\\\b',\n",
       " 'tokenizer': None,\n",
       " 'vocabulary': None}"
      ]
     },
     "execution_count": 29,
     "metadata": {},
     "output_type": "execute_result"
    }
   ],
   "source": [
    "cv.get_params()"
   ]
  },
  {
   "cell_type": "markdown",
   "metadata": {},
   "source": [
    "## MultinomialNB Algorithm"
   ]
  },
  {
   "cell_type": "code",
   "execution_count": 30,
   "metadata": {
    "execution": {
     "iopub.execute_input": "2022-12-04T09:33:53.018504Z",
     "iopub.status.busy": "2022-12-04T09:33:53.018160Z",
     "iopub.status.idle": "2022-12-04T09:33:53.115165Z",
     "shell.execute_reply": "2022-12-04T09:33:53.114355Z",
     "shell.execute_reply.started": "2022-12-04T09:33:53.018477Z"
    }
   },
   "outputs": [
    {
     "data": {
      "text/plain": [
       "MultinomialNB()"
      ]
     },
     "execution_count": 30,
     "metadata": {},
     "output_type": "execute_result"
    }
   ],
   "source": [
    "from sklearn.naive_bayes import MultinomialNB\n",
    "nb=MultinomialNB()\n",
    "nb.fit(X_train,y_train)"
   ]
  },
  {
   "cell_type": "code",
   "execution_count": 31,
   "metadata": {
    "execution": {
     "iopub.execute_input": "2022-12-04T09:33:53.217534Z",
     "iopub.status.busy": "2022-12-04T09:33:53.216555Z",
     "iopub.status.idle": "2022-12-04T09:33:53.227229Z",
     "shell.execute_reply": "2022-12-04T09:33:53.226060Z",
     "shell.execute_reply.started": "2022-12-04T09:33:53.217505Z"
    }
   },
   "outputs": [],
   "source": [
    "y_pred = nb.predict(X_test)"
   ]
  },
  {
   "cell_type": "code",
   "execution_count": 32,
   "metadata": {
    "execution": {
     "iopub.execute_input": "2022-12-04T09:33:53.397553Z",
     "iopub.status.busy": "2022-12-04T09:33:53.396668Z",
     "iopub.status.idle": "2022-12-04T09:33:53.674932Z",
     "shell.execute_reply": "2022-12-04T09:33:53.674314Z",
     "shell.execute_reply.started": "2022-12-04T09:33:53.397528Z"
    }
   },
   "outputs": [
    {
     "name": "stdout",
     "output_type": "stream",
     "text": [
      "                        precision    recall  f1-score   support\n",
      "\n",
      "                 Books       0.97      0.89      0.93      3869\n",
      "Clothing & Accessories       0.93      0.98      0.95      2892\n",
      "           Electronics       0.91      0.92      0.92      3482\n",
      "             Household       0.92      0.94      0.93      6397\n",
      "\n",
      "              accuracy                           0.93     16640\n",
      "             macro avg       0.93      0.93      0.93     16640\n",
      "          weighted avg       0.93      0.93      0.93     16640\n",
      "\n"
     ]
    }
   ],
   "source": [
    "from sklearn.metrics import classification_report\n",
    "print(classification_report(y_test,y_pred))"
   ]
  },
  {
   "cell_type": "code",
   "execution_count": 33,
   "metadata": {
    "execution": {
     "iopub.execute_input": "2022-12-04T09:33:53.676827Z",
     "iopub.status.busy": "2022-12-04T09:33:53.676002Z",
     "iopub.status.idle": "2022-12-04T09:33:53.939256Z",
     "shell.execute_reply": "2022-12-04T09:33:53.938456Z",
     "shell.execute_reply.started": "2022-12-04T09:33:53.676803Z"
    }
   },
   "outputs": [
    {
     "data": {
      "text/plain": [
       "<sklearn.metrics._plot.confusion_matrix.ConfusionMatrixDisplay at 0x18587785850>"
      ]
     },
     "execution_count": 33,
     "metadata": {},
     "output_type": "execute_result"
    },
    {
     "data": {
      "image/png": "[encoded data removed]",
      "text/plain": [
       "<Figure size 640x480 with 2 Axes>"
      ]
     },
     "metadata": {},
     "output_type": "display_data"
    }
   ],
   "source": [
    "from sklearn.metrics import plot_confusion_matrix\n",
    "plot_confusion_matrix(nb,X_test,y_test)\n"
   ]
  },
  {
   "cell_type": "markdown",
   "metadata": {},
   "source": [
    "## SVM"
   ]
  },
  {
   "cell_type": "code",
   "execution_count": 34,
   "metadata": {
    "execution": {
     "iopub.execute_input": "2022-12-04T09:33:53.940792Z",
     "iopub.status.busy": "2022-12-04T09:33:53.940396Z",
     "iopub.status.idle": "2022-12-04T09:36:49.120836Z",
     "shell.execute_reply": "2022-12-04T09:36:49.120003Z",
     "shell.execute_reply.started": "2022-12-04T09:33:53.940769Z"
    }
   },
   "outputs": [
    {
     "data": {
      "text/plain": [
       "SVC(class_weight='balanced')"
      ]
     },
     "execution_count": 34,
     "metadata": {},
     "output_type": "execute_result"
    }
   ],
   "source": [
    "from sklearn.svm import SVC\n",
    "svm = SVC(class_weight='balanced')\n",
    "svm.fit(X_train,y_train)\n"
   ]
  },
  {
   "cell_type": "code",
   "execution_count": 35,
   "metadata": {
    "execution": {
     "iopub.execute_input": "2022-12-04T09:36:49.122470Z",
     "iopub.status.busy": "2022-12-04T09:36:49.122246Z",
     "iopub.status.idle": "2022-12-04T09:37:51.360194Z",
     "shell.execute_reply": "2022-12-04T09:37:51.359256Z",
     "shell.execute_reply.started": "2022-12-04T09:36:49.122448Z"
    }
   },
   "outputs": [],
   "source": [
    "y_pred = svm.predict(X_test)"
   ]
  },
  {
   "cell_type": "code",
   "execution_count": 36,
   "metadata": {
    "execution": {
     "iopub.execute_input": "2022-12-04T09:37:51.362101Z",
     "iopub.status.busy": "2022-12-04T09:37:51.361749Z",
     "iopub.status.idle": "2022-12-04T09:37:51.707440Z",
     "shell.execute_reply": "2022-12-04T09:37:51.706363Z",
     "shell.execute_reply.started": "2022-12-04T09:37:51.362069Z"
    }
   },
   "outputs": [
    {
     "name": "stdout",
     "output_type": "stream",
     "text": [
      "                        precision    recall  f1-score   support\n",
      "\n",
      "                 Books       0.90      0.96      0.93      3869\n",
      "Clothing & Accessories       0.97      0.96      0.97      2892\n",
      "           Electronics       0.95      0.94      0.95      3482\n",
      "             Household       0.96      0.93      0.95      6397\n",
      "\n",
      "              accuracy                           0.95     16640\n",
      "             macro avg       0.95      0.95      0.95     16640\n",
      "          weighted avg       0.95      0.95      0.95     16640\n",
      "\n"
     ]
    }
   ],
   "source": [
    "from sklearn.metrics import classification_report\n",
    "print(classification_report(y_test,y_pred))"
   ]
  },
  {
   "cell_type": "code",
   "execution_count": 37,
   "metadata": {
    "execution": {
     "iopub.execute_input": "2022-12-04T09:37:51.710587Z",
     "iopub.status.busy": "2022-12-04T09:37:51.710266Z",
     "iopub.status.idle": "2022-12-04T09:37:51.969018Z",
     "shell.execute_reply": "2022-12-04T09:37:51.968396Z",
     "shell.execute_reply.started": "2022-12-04T09:37:51.710561Z"
    }
   },
   "outputs": [
    {
     "data": {
      "text/plain": [
       "<sklearn.metrics._plot.confusion_matrix.ConfusionMatrixDisplay at 0x185812e9ca0>"
      ]
     },
     "execution_count": 37,
     "metadata": {},
     "output_type": "execute_result"
    },
    {
     "data": {
      "image/png": "[encoded data removed]",
      "text/plain": [
       "<Figure size 640x480 with 2 Axes>"
      ]
     },
     "metadata": {},
     "output_type": "display_data"
    }
   ],
   "source": [
    "from sklearn.metrics import plot_confusion_matrix\n",
    "plot_confusion_matrix(nb,X_test,y_test)"
   ]
  },
  {
   "cell_type": "markdown",
   "metadata": {},
   "source": [
    "- Here, the accuracy is 95% which is better than the multinomial naive bayes model."
   ]
  },
  {
   "cell_type": "code",
   "execution_count": null,
   "metadata": {},
   "outputs": [],
   "source": []
  }
 ],
 "metadata": {
  "kernelspec": {
   "display_name": "Python 3 (ipykernel)",
   "language": "python",
   "name": "python3"
  },
  "language_info": {
   "codemirror_mode": {
    "name": "ipython",
    "version": 3
   },
   "file_extension": ".py",
   "mimetype": "text/x-python",
   "name": "python",
   "nbconvert_exporter": "python",
   "pygments_lexer": "ipython3",
   "version": "3.9.13"
  }
 },
 "nbformat": 4,
 "nbformat_minor": 4
}
